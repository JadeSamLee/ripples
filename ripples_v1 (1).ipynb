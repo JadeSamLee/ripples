{
  "nbformat": 4,
  "nbformat_minor": 0,
  "metadata": {
    "colab": {
      "provenance": []
    },
    "kernelspec": {
      "name": "python3",
      "display_name": "Python 3"
    },
    "language_info": {
      "name": "python"
    }
  },
  "cells": [
    {
      "cell_type": "code",
      "execution_count": 1,
      "metadata": {
        "colab": {
          "base_uri": "https://localhost:8080/"
        },
        "id": "vzlUTLoa0RJ2",
        "outputId": "f398292d-d2ff-4bba-d409-dd57d30d2b9e"
      },
      "outputs": [
        {
          "output_type": "stream",
          "name": "stdout",
          "text": [
            "Collecting qiskit\n",
            "  Downloading qiskit-1.2.0-cp38-abi3-manylinux_2_17_x86_64.manylinux2014_x86_64.whl.metadata (12 kB)\n",
            "Collecting rustworkx>=0.15.0 (from qiskit)\n",
            "  Downloading rustworkx-0.15.1-cp38-abi3-manylinux_2_17_x86_64.manylinux2014_x86_64.whl.metadata (9.9 kB)\n",
            "Requirement already satisfied: numpy<3,>=1.17 in /usr/local/lib/python3.10/dist-packages (from qiskit) (1.26.4)\n",
            "Requirement already satisfied: scipy>=1.5 in /usr/local/lib/python3.10/dist-packages (from qiskit) (1.13.1)\n",
            "Requirement already satisfied: sympy>=1.3 in /usr/local/lib/python3.10/dist-packages (from qiskit) (1.13.2)\n",
            "Collecting dill>=0.3 (from qiskit)\n",
            "  Downloading dill-0.3.8-py3-none-any.whl.metadata (10 kB)\n",
            "Requirement already satisfied: python-dateutil>=2.8.0 in /usr/local/lib/python3.10/dist-packages (from qiskit) (2.8.2)\n",
            "Collecting stevedore>=3.0.0 (from qiskit)\n",
            "  Downloading stevedore-5.3.0-py3-none-any.whl.metadata (2.3 kB)\n",
            "Requirement already satisfied: typing-extensions in /usr/local/lib/python3.10/dist-packages (from qiskit) (4.12.2)\n",
            "Collecting symengine>=0.11 (from qiskit)\n",
            "  Downloading symengine-0.11.0-cp310-cp310-manylinux_2_12_x86_64.manylinux2010_x86_64.whl.metadata (1.2 kB)\n",
            "Requirement already satisfied: six>=1.5 in /usr/local/lib/python3.10/dist-packages (from python-dateutil>=2.8.0->qiskit) (1.16.0)\n",
            "Collecting pbr>=2.0.0 (from stevedore>=3.0.0->qiskit)\n",
            "  Downloading pbr-6.1.0-py2.py3-none-any.whl.metadata (3.4 kB)\n",
            "Requirement already satisfied: mpmath<1.4,>=1.1.0 in /usr/local/lib/python3.10/dist-packages (from sympy>=1.3->qiskit) (1.3.0)\n",
            "Downloading qiskit-1.2.0-cp38-abi3-manylinux_2_17_x86_64.manylinux2014_x86_64.whl (4.8 MB)\n",
            "\u001b[2K   \u001b[90m━━━━━━━━━━━━━━━━━━━━━━━━━━━━━━━━━━━━━━━━\u001b[0m \u001b[32m4.8/4.8 MB\u001b[0m \u001b[31m13.2 MB/s\u001b[0m eta \u001b[36m0:00:00\u001b[0m\n",
            "\u001b[?25hDownloading dill-0.3.8-py3-none-any.whl (116 kB)\n",
            "\u001b[2K   \u001b[90m━━━━━━━━━━━━━━━━━━━━━━━━━━━━━━━━━━━━━━━━\u001b[0m \u001b[32m116.3/116.3 kB\u001b[0m \u001b[31m6.7 MB/s\u001b[0m eta \u001b[36m0:00:00\u001b[0m\n",
            "\u001b[?25hDownloading rustworkx-0.15.1-cp38-abi3-manylinux_2_17_x86_64.manylinux2014_x86_64.whl (2.0 MB)\n",
            "\u001b[2K   \u001b[90m━━━━━━━━━━━━━━━━━━━━━━━━━━━━━━━━━━━━━━━━\u001b[0m \u001b[32m2.0/2.0 MB\u001b[0m \u001b[31m35.0 MB/s\u001b[0m eta \u001b[36m0:00:00\u001b[0m\n",
            "\u001b[?25hDownloading stevedore-5.3.0-py3-none-any.whl (49 kB)\n",
            "\u001b[2K   \u001b[90m━━━━━━━━━━━━━━━━━━━━━━━━━━━━━━━━━━━━━━━━\u001b[0m \u001b[32m49.7/49.7 kB\u001b[0m \u001b[31m1.7 MB/s\u001b[0m eta \u001b[36m0:00:00\u001b[0m\n",
            "\u001b[?25hDownloading symengine-0.11.0-cp310-cp310-manylinux_2_12_x86_64.manylinux2010_x86_64.whl (39.4 MB)\n",
            "\u001b[2K   \u001b[90m━━━━━━━━━━━━━━━━━━━━━━━━━━━━━━━━━━━━━━━━\u001b[0m \u001b[32m39.4/39.4 MB\u001b[0m \u001b[31m17.3 MB/s\u001b[0m eta \u001b[36m0:00:00\u001b[0m\n",
            "\u001b[?25hDownloading pbr-6.1.0-py2.py3-none-any.whl (108 kB)\n",
            "\u001b[2K   \u001b[90m━━━━━━━━━━━━━━━━━━━━━━━━━━━━━━━━━━━━━━━━\u001b[0m \u001b[32m108.5/108.5 kB\u001b[0m \u001b[31m5.7 MB/s\u001b[0m eta \u001b[36m0:00:00\u001b[0m\n",
            "\u001b[?25hInstalling collected packages: symengine, rustworkx, pbr, dill, stevedore, qiskit\n",
            "Successfully installed dill-0.3.8 pbr-6.1.0 qiskit-1.2.0 rustworkx-0.15.1 stevedore-5.3.0 symengine-0.11.0\n"
          ]
        }
      ],
      "source": [
        "\n",
        "!pip install qiskit"
      ]
    },
    {
      "cell_type": "code",
      "source": [
        "!pip install cirq"
      ],
      "metadata": {
        "colab": {
          "base_uri": "https://localhost:8080/"
        },
        "id": "dduY2OhI0WXG",
        "outputId": "0dba3cb7-aee7-4f01-cb73-bc98e4410450"
      },
      "execution_count": 2,
      "outputs": [
        {
          "output_type": "stream",
          "name": "stdout",
          "text": [
            "Collecting cirq\n",
            "  Downloading cirq-1.4.1-py3-none-any.whl.metadata (7.4 kB)\n",
            "Collecting cirq-aqt==1.4.1 (from cirq)\n",
            "  Downloading cirq_aqt-1.4.1-py3-none-any.whl.metadata (1.6 kB)\n",
            "Collecting cirq-core==1.4.1 (from cirq)\n",
            "  Downloading cirq_core-1.4.1-py3-none-any.whl.metadata (1.8 kB)\n",
            "Collecting cirq-google==1.4.1 (from cirq)\n",
            "  Downloading cirq_google-1.4.1-py3-none-any.whl.metadata (2.0 kB)\n",
            "Collecting cirq-ionq==1.4.1 (from cirq)\n",
            "  Downloading cirq_ionq-1.4.1-py3-none-any.whl.metadata (1.6 kB)\n",
            "Collecting cirq-pasqal==1.4.1 (from cirq)\n",
            "  Downloading cirq_pasqal-1.4.1-py3-none-any.whl.metadata (1.6 kB)\n",
            "Collecting cirq-rigetti==1.4.1 (from cirq)\n",
            "  Downloading cirq_rigetti-1.4.1-py3-none-any.whl.metadata (1.7 kB)\n",
            "Collecting cirq-web==1.4.1 (from cirq)\n",
            "  Downloading cirq_web-1.4.1-py3-none-any.whl.metadata (2.6 kB)\n",
            "Requirement already satisfied: requests~=2.18 in /usr/local/lib/python3.10/dist-packages (from cirq-aqt==1.4.1->cirq) (2.32.3)\n",
            "Requirement already satisfied: attrs>=21.3.0 in /usr/local/lib/python3.10/dist-packages (from cirq-core==1.4.1->cirq) (24.2.0)\n",
            "Collecting duet>=0.2.8 (from cirq-core==1.4.1->cirq)\n",
            "  Downloading duet-0.2.9-py3-none-any.whl.metadata (2.3 kB)\n",
            "Requirement already satisfied: matplotlib~=3.0 in /usr/local/lib/python3.10/dist-packages (from cirq-core==1.4.1->cirq) (3.7.1)\n",
            "Requirement already satisfied: networkx>=2.4 in /usr/local/lib/python3.10/dist-packages (from cirq-core==1.4.1->cirq) (3.3)\n",
            "Requirement already satisfied: numpy~=1.22 in /usr/local/lib/python3.10/dist-packages (from cirq-core==1.4.1->cirq) (1.26.4)\n",
            "Requirement already satisfied: pandas in /usr/local/lib/python3.10/dist-packages (from cirq-core==1.4.1->cirq) (2.1.4)\n",
            "Requirement already satisfied: sortedcontainers~=2.0 in /usr/local/lib/python3.10/dist-packages (from cirq-core==1.4.1->cirq) (2.4.0)\n",
            "Requirement already satisfied: scipy~=1.0 in /usr/local/lib/python3.10/dist-packages (from cirq-core==1.4.1->cirq) (1.13.1)\n",
            "Requirement already satisfied: sympy in /usr/local/lib/python3.10/dist-packages (from cirq-core==1.4.1->cirq) (1.13.2)\n",
            "Requirement already satisfied: typing-extensions>=4.2 in /usr/local/lib/python3.10/dist-packages (from cirq-core==1.4.1->cirq) (4.12.2)\n",
            "Requirement already satisfied: tqdm in /usr/local/lib/python3.10/dist-packages (from cirq-core==1.4.1->cirq) (4.66.5)\n",
            "Requirement already satisfied: google-api-core>=1.14.0 in /usr/local/lib/python3.10/dist-packages (from google-api-core[grpc]>=1.14.0->cirq-google==1.4.1->cirq) (2.19.2)\n",
            "Requirement already satisfied: proto-plus>=1.20.0 in /usr/local/lib/python3.10/dist-packages (from cirq-google==1.4.1->cirq) (1.24.0)\n",
            "Requirement already satisfied: protobuf<5.0.0,>=3.15.0 in /usr/local/lib/python3.10/dist-packages (from cirq-google==1.4.1->cirq) (3.20.3)\n",
            "Collecting pyquil<5.0.0,>=4.11.0 (from cirq-rigetti==1.4.1->cirq)\n",
            "  Downloading pyquil-4.14.2-py3-none-any.whl.metadata (10 kB)\n",
            "Requirement already satisfied: googleapis-common-protos<2.0.dev0,>=1.56.2 in /usr/local/lib/python3.10/dist-packages (from google-api-core>=1.14.0->google-api-core[grpc]>=1.14.0->cirq-google==1.4.1->cirq) (1.65.0)\n",
            "Requirement already satisfied: google-auth<3.0.dev0,>=2.14.1 in /usr/local/lib/python3.10/dist-packages (from google-api-core>=1.14.0->google-api-core[grpc]>=1.14.0->cirq-google==1.4.1->cirq) (2.27.0)\n",
            "Requirement already satisfied: grpcio<2.0dev,>=1.33.2 in /usr/local/lib/python3.10/dist-packages (from google-api-core[grpc]>=1.14.0->cirq-google==1.4.1->cirq) (1.64.1)\n",
            "Requirement already satisfied: grpcio-status<2.0.dev0,>=1.33.2 in /usr/local/lib/python3.10/dist-packages (from google-api-core[grpc]>=1.14.0->cirq-google==1.4.1->cirq) (1.48.2)\n",
            "Requirement already satisfied: contourpy>=1.0.1 in /usr/local/lib/python3.10/dist-packages (from matplotlib~=3.0->cirq-core==1.4.1->cirq) (1.3.0)\n",
            "Requirement already satisfied: cycler>=0.10 in /usr/local/lib/python3.10/dist-packages (from matplotlib~=3.0->cirq-core==1.4.1->cirq) (0.12.1)\n",
            "Requirement already satisfied: fonttools>=4.22.0 in /usr/local/lib/python3.10/dist-packages (from matplotlib~=3.0->cirq-core==1.4.1->cirq) (4.53.1)\n",
            "Requirement already satisfied: kiwisolver>=1.0.1 in /usr/local/lib/python3.10/dist-packages (from matplotlib~=3.0->cirq-core==1.4.1->cirq) (1.4.5)\n",
            "Requirement already satisfied: packaging>=20.0 in /usr/local/lib/python3.10/dist-packages (from matplotlib~=3.0->cirq-core==1.4.1->cirq) (24.1)\n",
            "Requirement already satisfied: pillow>=6.2.0 in /usr/local/lib/python3.10/dist-packages (from matplotlib~=3.0->cirq-core==1.4.1->cirq) (9.4.0)\n",
            "Requirement already satisfied: pyparsing>=2.3.1 in /usr/local/lib/python3.10/dist-packages (from matplotlib~=3.0->cirq-core==1.4.1->cirq) (3.1.4)\n",
            "Requirement already satisfied: python-dateutil>=2.7 in /usr/local/lib/python3.10/dist-packages (from matplotlib~=3.0->cirq-core==1.4.1->cirq) (2.8.2)\n",
            "Collecting deprecated<2.0.0,>=1.2.14 (from pyquil<5.0.0,>=4.11.0->cirq-rigetti==1.4.1->cirq)\n",
            "  Downloading Deprecated-1.2.14-py2.py3-none-any.whl.metadata (5.4 kB)\n",
            "Requirement already satisfied: matplotlib-inline<0.2.0,>=0.1.7 in /usr/local/lib/python3.10/dist-packages (from pyquil<5.0.0,>=4.11.0->cirq-rigetti==1.4.1->cirq) (0.1.7)\n",
            "Collecting packaging>=20.0 (from matplotlib~=3.0->cirq-core==1.4.1->cirq)\n",
            "  Downloading packaging-23.2-py3-none-any.whl.metadata (3.2 kB)\n",
            "Collecting qcs-sdk-python>=0.19.2 (from pyquil<5.0.0,>=4.11.0->cirq-rigetti==1.4.1->cirq)\n",
            "  Downloading qcs_sdk_python-0.19.3-cp310-cp310-manylinux_2_28_x86_64.whl.metadata (6.2 kB)\n",
            "Collecting quil>=0.11.2 (from pyquil<5.0.0,>=4.11.0->cirq-rigetti==1.4.1->cirq)\n",
            "  Downloading quil-0.11.4-cp310-cp310-manylinux_2_17_x86_64.manylinux2014_x86_64.whl.metadata (1.5 kB)\n",
            "Collecting rpcq<4.0.0,>=3.11.0 (from pyquil<5.0.0,>=4.11.0->cirq-rigetti==1.4.1->cirq)\n",
            "  Downloading rpcq-3.11.0.tar.gz (45 kB)\n",
            "\u001b[2K     \u001b[90m━━━━━━━━━━━━━━━━━━━━━━━━━━━━━━━━━━━━━━━━\u001b[0m \u001b[32m45.6/45.6 kB\u001b[0m \u001b[31m683.4 kB/s\u001b[0m eta \u001b[36m0:00:00\u001b[0m\n",
            "\u001b[?25h  Preparing metadata (setup.py) ... \u001b[?25l\u001b[?25hdone\n",
            "Collecting types-deprecated<2.0.0.0,>=1.2.9.3 (from pyquil<5.0.0,>=4.11.0->cirq-rigetti==1.4.1->cirq)\n",
            "  Downloading types_Deprecated-1.2.9.20240311-py3-none-any.whl.metadata (1.6 kB)\n",
            "Requirement already satisfied: charset-normalizer<4,>=2 in /usr/local/lib/python3.10/dist-packages (from requests~=2.18->cirq-aqt==1.4.1->cirq) (3.3.2)\n",
            "Requirement already satisfied: idna<4,>=2.5 in /usr/local/lib/python3.10/dist-packages (from requests~=2.18->cirq-aqt==1.4.1->cirq) (3.8)\n",
            "Requirement already satisfied: urllib3<3,>=1.21.1 in /usr/local/lib/python3.10/dist-packages (from requests~=2.18->cirq-aqt==1.4.1->cirq) (2.0.7)\n",
            "Requirement already satisfied: certifi>=2017.4.17 in /usr/local/lib/python3.10/dist-packages (from requests~=2.18->cirq-aqt==1.4.1->cirq) (2024.8.30)\n",
            "Requirement already satisfied: pytz>=2020.1 in /usr/local/lib/python3.10/dist-packages (from pandas->cirq-core==1.4.1->cirq) (2024.1)\n",
            "Requirement already satisfied: tzdata>=2022.1 in /usr/local/lib/python3.10/dist-packages (from pandas->cirq-core==1.4.1->cirq) (2024.1)\n",
            "Requirement already satisfied: mpmath<1.4,>=1.1.0 in /usr/local/lib/python3.10/dist-packages (from sympy->cirq-core==1.4.1->cirq) (1.3.0)\n",
            "Requirement already satisfied: wrapt<2,>=1.10 in /usr/local/lib/python3.10/dist-packages (from deprecated<2.0.0,>=1.2.14->pyquil<5.0.0,>=4.11.0->cirq-rigetti==1.4.1->cirq) (1.16.0)\n",
            "Requirement already satisfied: cachetools<6.0,>=2.0.0 in /usr/local/lib/python3.10/dist-packages (from google-auth<3.0.dev0,>=2.14.1->google-api-core>=1.14.0->google-api-core[grpc]>=1.14.0->cirq-google==1.4.1->cirq) (5.5.0)\n",
            "Requirement already satisfied: pyasn1-modules>=0.2.1 in /usr/local/lib/python3.10/dist-packages (from google-auth<3.0.dev0,>=2.14.1->google-api-core>=1.14.0->google-api-core[grpc]>=1.14.0->cirq-google==1.4.1->cirq) (0.4.0)\n",
            "Requirement already satisfied: rsa<5,>=3.1.4 in /usr/local/lib/python3.10/dist-packages (from google-auth<3.0.dev0,>=2.14.1->google-api-core>=1.14.0->google-api-core[grpc]>=1.14.0->cirq-google==1.4.1->cirq) (4.9)\n",
            "Requirement already satisfied: traitlets in /usr/local/lib/python3.10/dist-packages (from matplotlib-inline<0.2.0,>=0.1.7->pyquil<5.0.0,>=4.11.0->cirq-rigetti==1.4.1->cirq) (5.7.1)\n",
            "Requirement already satisfied: six>=1.5 in /usr/local/lib/python3.10/dist-packages (from python-dateutil>=2.7->matplotlib~=3.0->cirq-core==1.4.1->cirq) (1.16.0)\n",
            "Requirement already satisfied: msgpack<2.0,>=0.6 in /usr/local/lib/python3.10/dist-packages (from rpcq<4.0.0,>=3.11.0->pyquil<5.0.0,>=4.11.0->cirq-rigetti==1.4.1->cirq) (1.0.8)\n",
            "Collecting python-rapidjson (from rpcq<4.0.0,>=3.11.0->pyquil<5.0.0,>=4.11.0->cirq-rigetti==1.4.1->cirq)\n",
            "  Downloading python_rapidjson-1.20-cp310-cp310-manylinux_2_17_x86_64.manylinux2014_x86_64.whl.metadata (22 kB)\n",
            "Requirement already satisfied: pyzmq>=17 in /usr/local/lib/python3.10/dist-packages (from rpcq<4.0.0,>=3.11.0->pyquil<5.0.0,>=4.11.0->cirq-rigetti==1.4.1->cirq) (24.0.1)\n",
            "Collecting ruamel.yaml (from rpcq<4.0.0,>=3.11.0->pyquil<5.0.0,>=4.11.0->cirq-rigetti==1.4.1->cirq)\n",
            "  Downloading ruamel.yaml-0.18.6-py3-none-any.whl.metadata (23 kB)\n",
            "Requirement already satisfied: pyasn1<0.7.0,>=0.4.6 in /usr/local/lib/python3.10/dist-packages (from pyasn1-modules>=0.2.1->google-auth<3.0.dev0,>=2.14.1->google-api-core>=1.14.0->google-api-core[grpc]>=1.14.0->cirq-google==1.4.1->cirq) (0.6.0)\n",
            "Collecting ruamel.yaml.clib>=0.2.7 (from ruamel.yaml->rpcq<4.0.0,>=3.11.0->pyquil<5.0.0,>=4.11.0->cirq-rigetti==1.4.1->cirq)\n",
            "  Downloading ruamel.yaml.clib-0.2.8-cp310-cp310-manylinux_2_17_x86_64.manylinux2014_x86_64.manylinux_2_24_x86_64.whl.metadata (2.2 kB)\n",
            "Downloading cirq-1.4.1-py3-none-any.whl (8.0 kB)\n",
            "Downloading cirq_aqt-1.4.1-py3-none-any.whl (30 kB)\n",
            "Downloading cirq_core-1.4.1-py3-none-any.whl (1.9 MB)\n",
            "\u001b[2K   \u001b[90m━━━━━━━━━━━━━━━━━━━━━━━━━━━━━━━━━━━━━━━━\u001b[0m \u001b[32m1.9/1.9 MB\u001b[0m \u001b[31m9.4 MB/s\u001b[0m eta \u001b[36m0:00:00\u001b[0m\n",
            "\u001b[?25hDownloading cirq_google-1.4.1-py3-none-any.whl (532 kB)\n",
            "\u001b[2K   \u001b[90m━━━━━━━━━━━━━━━━━━━━━━━━━━━━━━━━━━━━━━━━\u001b[0m \u001b[32m532.7/532.7 kB\u001b[0m \u001b[31m19.0 MB/s\u001b[0m eta \u001b[36m0:00:00\u001b[0m\n",
            "\u001b[?25hDownloading cirq_ionq-1.4.1-py3-none-any.whl (60 kB)\n",
            "\u001b[2K   \u001b[90m━━━━━━━━━━━━━━━━━━━━━━━━━━━━━━━━━━━━━━━━\u001b[0m \u001b[32m60.5/60.5 kB\u001b[0m \u001b[31m4.0 MB/s\u001b[0m eta \u001b[36m0:00:00\u001b[0m\n",
            "\u001b[?25hDownloading cirq_pasqal-1.4.1-py3-none-any.whl (31 kB)\n",
            "Downloading cirq_rigetti-1.4.1-py3-none-any.whl (69 kB)\n",
            "\u001b[2K   \u001b[90m━━━━━━━━━━━━━━━━━━━━━━━━━━━━━━━━━━━━━━━━\u001b[0m \u001b[32m69.3/69.3 kB\u001b[0m \u001b[31m4.4 MB/s\u001b[0m eta \u001b[36m0:00:00\u001b[0m\n",
            "\u001b[?25hDownloading cirq_web-1.4.1-py3-none-any.whl (596 kB)\n",
            "\u001b[2K   \u001b[90m━━━━━━━━━━━━━━━━━━━━━━━━━━━━━━━━━━━━━━━━\u001b[0m \u001b[32m596.5/596.5 kB\u001b[0m \u001b[31m6.7 MB/s\u001b[0m eta \u001b[36m0:00:00\u001b[0m\n",
            "\u001b[?25hDownloading duet-0.2.9-py3-none-any.whl (29 kB)\n",
            "Downloading pyquil-4.14.2-py3-none-any.whl (202 kB)\n",
            "\u001b[2K   \u001b[90m━━━━━━━━━━━━━━━━━━━━━━━━━━━━━━━━━━━━━━━━\u001b[0m \u001b[32m202.8/202.8 kB\u001b[0m \u001b[31m10.2 MB/s\u001b[0m eta \u001b[36m0:00:00\u001b[0m\n",
            "\u001b[?25hDownloading Deprecated-1.2.14-py2.py3-none-any.whl (9.6 kB)\n",
            "Downloading packaging-23.2-py3-none-any.whl (53 kB)\n",
            "\u001b[2K   \u001b[90m━━━━━━━━━━━━━━━━━━━━━━━━━━━━━━━━━━━━━━━━\u001b[0m \u001b[32m53.0/53.0 kB\u001b[0m \u001b[31m2.9 MB/s\u001b[0m eta \u001b[36m0:00:00\u001b[0m\n",
            "\u001b[?25hDownloading qcs_sdk_python-0.19.3-cp310-cp310-manylinux_2_28_x86_64.whl (6.8 MB)\n",
            "\u001b[2K   \u001b[90m━━━━━━━━━━━━━━━━━━━━━━━━━━━━━━━━━━━━━━━━\u001b[0m \u001b[32m6.8/6.8 MB\u001b[0m \u001b[31m42.2 MB/s\u001b[0m eta \u001b[36m0:00:00\u001b[0m\n",
            "\u001b[?25hDownloading quil-0.11.4-cp310-cp310-manylinux_2_17_x86_64.manylinux2014_x86_64.whl (2.0 MB)\n",
            "\u001b[2K   \u001b[90m━━━━━━━━━━━━━━━━━━━━━━━━━━━━━━━━━━━━━━━━\u001b[0m \u001b[32m2.0/2.0 MB\u001b[0m \u001b[31m32.4 MB/s\u001b[0m eta \u001b[36m0:00:00\u001b[0m\n",
            "\u001b[?25hDownloading types_Deprecated-1.2.9.20240311-py3-none-any.whl (3.5 kB)\n",
            "Downloading python_rapidjson-1.20-cp310-cp310-manylinux_2_17_x86_64.manylinux2014_x86_64.whl (1.7 MB)\n",
            "\u001b[2K   \u001b[90m━━━━━━━━━━━━━━━━━━━━━━━━━━━━━━━━━━━━━━━━\u001b[0m \u001b[32m1.7/1.7 MB\u001b[0m \u001b[31m30.6 MB/s\u001b[0m eta \u001b[36m0:00:00\u001b[0m\n",
            "\u001b[?25hDownloading ruamel.yaml-0.18.6-py3-none-any.whl (117 kB)\n",
            "\u001b[2K   \u001b[90m━━━━━━━━━━━━━━━━━━━━━━━━━━━━━━━━━━━━━━━━\u001b[0m \u001b[32m117.8/117.8 kB\u001b[0m \u001b[31m8.1 MB/s\u001b[0m eta \u001b[36m0:00:00\u001b[0m\n",
            "\u001b[?25hDownloading ruamel.yaml.clib-0.2.8-cp310-cp310-manylinux_2_17_x86_64.manylinux2014_x86_64.manylinux_2_24_x86_64.whl (526 kB)\n",
            "\u001b[2K   \u001b[90m━━━━━━━━━━━━━━━━━━━━━━━━━━━━━━━━━━━━━━━━\u001b[0m \u001b[32m526.7/526.7 kB\u001b[0m \u001b[31m10.8 MB/s\u001b[0m eta \u001b[36m0:00:00\u001b[0m\n",
            "\u001b[?25hBuilding wheels for collected packages: rpcq\n",
            "  Building wheel for rpcq (setup.py) ... \u001b[?25l\u001b[?25hdone\n",
            "  Created wheel for rpcq: filename=rpcq-3.11.0-py3-none-any.whl size=45967 sha256=2c2cf390e67d5753f307626cadb7cf77f89de2871bbe4405aceb52b89cd4daef\n",
            "  Stored in directory: /root/.cache/pip/wheels/91/97/0a/b384d94155345284ec00712ab814cbfb5bc2b631080b4fa4c3\n",
            "Successfully built rpcq\n",
            "Installing collected packages: types-deprecated, ruamel.yaml.clib, quil, python-rapidjson, packaging, duet, deprecated, ruamel.yaml, qcs-sdk-python, rpcq, cirq-core, pyquil, cirq-web, cirq-pasqal, cirq-ionq, cirq-aqt, cirq-rigetti, cirq-google, cirq\n",
            "  Attempting uninstall: packaging\n",
            "    Found existing installation: packaging 24.1\n",
            "    Uninstalling packaging-24.1:\n",
            "      Successfully uninstalled packaging-24.1\n",
            "Successfully installed cirq-1.4.1 cirq-aqt-1.4.1 cirq-core-1.4.1 cirq-google-1.4.1 cirq-ionq-1.4.1 cirq-pasqal-1.4.1 cirq-rigetti-1.4.1 cirq-web-1.4.1 deprecated-1.2.14 duet-0.2.9 packaging-23.2 pyquil-4.14.2 python-rapidjson-1.20 qcs-sdk-python-0.19.3 quil-0.11.4 rpcq-3.11.0 ruamel.yaml-0.18.6 ruamel.yaml.clib-0.2.8 types-deprecated-1.2.9.20240311\n"
          ]
        }
      ]
    },
    {
      "cell_type": "code",
      "source": [
        "# Import necessary libraries\n",
        "import cirq\n",
        "import matplotlib.pyplot as plt\n",
        "from collections import Counter\n"
      ],
      "metadata": {
        "id": "nOBDk2kN0d7t"
      },
      "execution_count": 3,
      "outputs": []
    },
    {
      "cell_type": "code",
      "source": [
        "# Step 1: Create a quantum circuit with 1 qubit\n",
        "qubit = cirq.GridQubit(0, 0)\n",
        "circuit = cirq.Circuit()"
      ],
      "metadata": {
        "id": "miRMybmw0fp9"
      },
      "execution_count": 4,
      "outputs": []
    },
    {
      "cell_type": "code",
      "source": [
        "# Step 2: Apply a Hadamard gate to create a superposition state\n",
        "circuit.append(cirq.H(qubit))"
      ],
      "metadata": {
        "id": "ytS-nzFf0iXP"
      },
      "execution_count": 5,
      "outputs": []
    },
    {
      "cell_type": "code",
      "source": [
        "\n",
        "# Step 3: Measure the qubit\n",
        "circuit.append(cirq.measure(qubit, key='result'))"
      ],
      "metadata": {
        "id": "lhH7SjXc0miQ"
      },
      "execution_count": 6,
      "outputs": []
    },
    {
      "cell_type": "code",
      "source": [
        "# Step 4: Print the circuit\n",
        "print(\"Quantum Circuit:\")\n",
        "print(circuit)"
      ],
      "metadata": {
        "colab": {
          "base_uri": "https://localhost:8080/"
        },
        "id": "0nQeEON-0o7X",
        "outputId": "26bd410a-d6cb-4c9e-8f6f-5359902b4769"
      },
      "execution_count": 7,
      "outputs": [
        {
          "output_type": "stream",
          "name": "stdout",
          "text": [
            "Quantum Circuit:\n",
            "(0, 0): ───H───M('result')───\n"
          ]
        }
      ]
    },
    {
      "cell_type": "code",
      "source": [
        "# Step 5: Use Cirq simulator to run the circuit\n",
        "simulator = cirq.Simulator()\n",
        "result = simulator.run(circuit, repetitions=1024)"
      ],
      "metadata": {
        "id": "pQAiXPQH0rK1"
      },
      "execution_count": 8,
      "outputs": []
    },
    {
      "cell_type": "code",
      "source": [
        "\n",
        "# Step 6: Get the result and visualize the histogram of the measurement outcomes\n",
        "measurements = result.measurements['result'].flatten()\n",
        "counts = Counter(measurements)"
      ],
      "metadata": {
        "id": "5SBlRfBz0s22"
      },
      "execution_count": 9,
      "outputs": []
    },
    {
      "cell_type": "code",
      "source": [
        "print(\"Measurement Results:\", dict(counts))"
      ],
      "metadata": {
        "colab": {
          "base_uri": "https://localhost:8080/"
        },
        "id": "3Gi94oZf0vCM",
        "outputId": "4fd1dd87-3a49-4df3-e6d3-580d25a955aa"
      },
      "execution_count": 10,
      "outputs": [
        {
          "output_type": "stream",
          "name": "stdout",
          "text": [
            "Measurement Results: {1: 514, 0: 510}\n"
          ]
        }
      ]
    },
    {
      "cell_type": "code",
      "source": [
        "\n",
        "# Plot the results\n",
        "plt.bar(counts.keys(), counts.values())\n",
        "plt.xlabel('Measurement Result')\n",
        "plt.ylabel('Count')\n",
        "plt.title('Measurement Results Histogram')\n",
        "plt.xticks(ticks=[0, 1], labels=['0', '1'])\n",
        "plt.show()"
      ],
      "metadata": {
        "colab": {
          "base_uri": "https://localhost:8080/",
          "height": 472
        },
        "id": "zl8CwiWX0zK-",
        "outputId": "ebe93c5b-349b-4ea7-f197-00676e1f3b43"
      },
      "execution_count": 11,
      "outputs": [
        {
          "output_type": "display_data",
          "data": {
            "text/plain": [
              "<Figure size 640x480 with 1 Axes>"
            ],
            "image/png": "[encoded data removed]"
          },
          "metadata": {}
        }
      ]
    }
  ]
}