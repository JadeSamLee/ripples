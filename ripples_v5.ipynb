{
  "nbformat": 4,
  "nbformat_minor": 0,
  "metadata": {
    "colab": {
      "provenance": []
    },
    "kernelspec": {
      "name": "python3",
      "display_name": "Python 3"
    },
    "language_info": {
      "name": "python"
    }
  },
  "cells": [
    {
      "cell_type": "code",
      "execution_count": 1,
      "metadata": {
        "colab": {
          "base_uri": "https://localhost:8080/"
        },
        "id": "NzJgEY3p6Y8s",
        "outputId": "4185dd37-cedf-410a-f69a-4a4454230664"
      },
      "outputs": [
        {
          "output_type": "stream",
          "name": "stdout",
          "text": [
            "Collecting cirq\n",
            "  Downloading cirq-1.4.1-py3-none-any.whl.metadata (7.4 kB)\n",
            "Collecting bayesian-optimization\n",
            "  Downloading bayesian_optimization-1.5.1-py3-none-any.whl.metadata (16 kB)\n",
            "Collecting cirq-aqt==1.4.1 (from cirq)\n",
            "  Downloading cirq_aqt-1.4.1-py3-none-any.whl.metadata (1.6 kB)\n",
            "Collecting cirq-core==1.4.1 (from cirq)\n",
            "  Downloading cirq_core-1.4.1-py3-none-any.whl.metadata (1.8 kB)\n",
            "Collecting cirq-google==1.4.1 (from cirq)\n",
            "  Downloading cirq_google-1.4.1-py3-none-any.whl.metadata (2.0 kB)\n",
            "Collecting cirq-ionq==1.4.1 (from cirq)\n",
            "  Downloading cirq_ionq-1.4.1-py3-none-any.whl.metadata (1.6 kB)\n",
            "Collecting cirq-pasqal==1.4.1 (from cirq)\n",
            "  Downloading cirq_pasqal-1.4.1-py3-none-any.whl.metadata (1.6 kB)\n",
            "Collecting cirq-rigetti==1.4.1 (from cirq)\n",
            "  Downloading cirq_rigetti-1.4.1-py3-none-any.whl.metadata (1.7 kB)\n",
            "Collecting cirq-web==1.4.1 (from cirq)\n",
            "  Downloading cirq_web-1.4.1-py3-none-any.whl.metadata (2.6 kB)\n",
            "Requirement already satisfied: requests~=2.18 in /usr/local/lib/python3.10/dist-packages (from cirq-aqt==1.4.1->cirq) (2.32.3)\n",
            "Requirement already satisfied: attrs>=21.3.0 in /usr/local/lib/python3.10/dist-packages (from cirq-core==1.4.1->cirq) (24.2.0)\n",
            "Collecting duet>=0.2.8 (from cirq-core==1.4.1->cirq)\n",
            "  Downloading duet-0.2.9-py3-none-any.whl.metadata (2.3 kB)\n",
            "Requirement already satisfied: matplotlib~=3.0 in /usr/local/lib/python3.10/dist-packages (from cirq-core==1.4.1->cirq) (3.7.1)\n",
            "Requirement already satisfied: networkx>=2.4 in /usr/local/lib/python3.10/dist-packages (from cirq-core==1.4.1->cirq) (3.3)\n",
            "Requirement already satisfied: numpy~=1.22 in /usr/local/lib/python3.10/dist-packages (from cirq-core==1.4.1->cirq) (1.26.4)\n",
            "Requirement already satisfied: pandas in /usr/local/lib/python3.10/dist-packages (from cirq-core==1.4.1->cirq) (2.1.4)\n",
            "Requirement already satisfied: sortedcontainers~=2.0 in /usr/local/lib/python3.10/dist-packages (from cirq-core==1.4.1->cirq) (2.4.0)\n",
            "Requirement already satisfied: scipy~=1.0 in /usr/local/lib/python3.10/dist-packages (from cirq-core==1.4.1->cirq) (1.13.1)\n",
            "Requirement already satisfied: sympy in /usr/local/lib/python3.10/dist-packages (from cirq-core==1.4.1->cirq) (1.13.2)\n",
            "Requirement already satisfied: typing-extensions>=4.2 in /usr/local/lib/python3.10/dist-packages (from cirq-core==1.4.1->cirq) (4.12.2)\n",
            "Requirement already satisfied: tqdm in /usr/local/lib/python3.10/dist-packages (from cirq-core==1.4.1->cirq) (4.66.5)\n",
            "Requirement already satisfied: google-api-core>=1.14.0 in /usr/local/lib/python3.10/dist-packages (from google-api-core[grpc]>=1.14.0->cirq-google==1.4.1->cirq) (2.19.2)\n",
            "Requirement already satisfied: proto-plus>=1.20.0 in /usr/local/lib/python3.10/dist-packages (from cirq-google==1.4.1->cirq) (1.24.0)\n",
            "Requirement already satisfied: protobuf<5.0.0,>=3.15.0 in /usr/local/lib/python3.10/dist-packages (from cirq-google==1.4.1->cirq) (3.20.3)\n",
            "Collecting pyquil<5.0.0,>=4.11.0 (from cirq-rigetti==1.4.1->cirq)\n",
            "  Downloading pyquil-4.14.2-py3-none-any.whl.metadata (10 kB)\n",
            "Collecting colorama<0.5.0,>=0.4.6 (from bayesian-optimization)\n",
            "  Downloading colorama-0.4.6-py2.py3-none-any.whl.metadata (17 kB)\n",
            "Requirement already satisfied: scikit-learn<2.0.0,>=1.0.0 in /usr/local/lib/python3.10/dist-packages (from bayesian-optimization) (1.3.2)\n",
            "Requirement already satisfied: joblib>=1.1.1 in /usr/local/lib/python3.10/dist-packages (from scikit-learn<2.0.0,>=1.0.0->bayesian-optimization) (1.4.2)\n",
            "Requirement already satisfied: threadpoolctl>=2.0.0 in /usr/local/lib/python3.10/dist-packages (from scikit-learn<2.0.0,>=1.0.0->bayesian-optimization) (3.5.0)\n",
            "Requirement already satisfied: googleapis-common-protos<2.0.dev0,>=1.56.2 in /usr/local/lib/python3.10/dist-packages (from google-api-core>=1.14.0->google-api-core[grpc]>=1.14.0->cirq-google==1.4.1->cirq) (1.65.0)\n",
            "Requirement already satisfied: google-auth<3.0.dev0,>=2.14.1 in /usr/local/lib/python3.10/dist-packages (from google-api-core>=1.14.0->google-api-core[grpc]>=1.14.0->cirq-google==1.4.1->cirq) (2.27.0)\n",
            "Requirement already satisfied: grpcio<2.0dev,>=1.33.2 in /usr/local/lib/python3.10/dist-packages (from google-api-core[grpc]>=1.14.0->cirq-google==1.4.1->cirq) (1.64.1)\n",
            "Requirement already satisfied: grpcio-status<2.0.dev0,>=1.33.2 in /usr/local/lib/python3.10/dist-packages (from google-api-core[grpc]>=1.14.0->cirq-google==1.4.1->cirq) (1.48.2)\n",
            "Requirement already satisfied: contourpy>=1.0.1 in /usr/local/lib/python3.10/dist-packages (from matplotlib~=3.0->cirq-core==1.4.1->cirq) (1.3.0)\n",
            "Requirement already satisfied: cycler>=0.10 in /usr/local/lib/python3.10/dist-packages (from matplotlib~=3.0->cirq-core==1.4.1->cirq) (0.12.1)\n",
            "Requirement already satisfied: fonttools>=4.22.0 in /usr/local/lib/python3.10/dist-packages (from matplotlib~=3.0->cirq-core==1.4.1->cirq) (4.53.1)\n",
            "Requirement already satisfied: kiwisolver>=1.0.1 in /usr/local/lib/python3.10/dist-packages (from matplotlib~=3.0->cirq-core==1.4.1->cirq) (1.4.5)\n",
            "Requirement already satisfied: packaging>=20.0 in /usr/local/lib/python3.10/dist-packages (from matplotlib~=3.0->cirq-core==1.4.1->cirq) (24.1)\n",
            "Requirement already satisfied: pillow>=6.2.0 in /usr/local/lib/python3.10/dist-packages (from matplotlib~=3.0->cirq-core==1.4.1->cirq) (9.4.0)\n",
            "Requirement already satisfied: pyparsing>=2.3.1 in /usr/local/lib/python3.10/dist-packages (from matplotlib~=3.0->cirq-core==1.4.1->cirq) (3.1.4)\n",
            "Requirement already satisfied: python-dateutil>=2.7 in /usr/local/lib/python3.10/dist-packages (from matplotlib~=3.0->cirq-core==1.4.1->cirq) (2.8.2)\n",
            "Collecting deprecated<2.0.0,>=1.2.14 (from pyquil<5.0.0,>=4.11.0->cirq-rigetti==1.4.1->cirq)\n",
            "  Downloading Deprecated-1.2.14-py2.py3-none-any.whl.metadata (5.4 kB)\n",
            "Requirement already satisfied: matplotlib-inline<0.2.0,>=0.1.7 in /usr/local/lib/python3.10/dist-packages (from pyquil<5.0.0,>=4.11.0->cirq-rigetti==1.4.1->cirq) (0.1.7)\n",
            "Collecting packaging>=20.0 (from matplotlib~=3.0->cirq-core==1.4.1->cirq)\n",
            "  Downloading packaging-23.2-py3-none-any.whl.metadata (3.2 kB)\n",
            "Collecting qcs-sdk-python>=0.19.2 (from pyquil<5.0.0,>=4.11.0->cirq-rigetti==1.4.1->cirq)\n",
            "  Downloading qcs_sdk_python-0.19.3-cp310-cp310-manylinux_2_28_x86_64.whl.metadata (6.2 kB)\n",
            "Collecting quil>=0.11.2 (from pyquil<5.0.0,>=4.11.0->cirq-rigetti==1.4.1->cirq)\n",
            "  Downloading quil-0.11.4-cp310-cp310-manylinux_2_17_x86_64.manylinux2014_x86_64.whl.metadata (1.5 kB)\n",
            "Collecting rpcq<4.0.0,>=3.11.0 (from pyquil<5.0.0,>=4.11.0->cirq-rigetti==1.4.1->cirq)\n",
            "  Downloading rpcq-3.11.0.tar.gz (45 kB)\n",
            "\u001b[2K     \u001b[90m━━━━━━━━━━━━━━━━━━━━━━━━━━━━━━━━━━━━━━━━\u001b[0m \u001b[32m45.6/45.6 kB\u001b[0m \u001b[31m1.7 MB/s\u001b[0m eta \u001b[36m0:00:00\u001b[0m\n",
            "\u001b[?25h  Preparing metadata (setup.py) ... \u001b[?25l\u001b[?25hdone\n",
            "Collecting types-deprecated<2.0.0.0,>=1.2.9.3 (from pyquil<5.0.0,>=4.11.0->cirq-rigetti==1.4.1->cirq)\n",
            "  Downloading types_Deprecated-1.2.9.20240311-py3-none-any.whl.metadata (1.6 kB)\n",
            "Requirement already satisfied: charset-normalizer<4,>=2 in /usr/local/lib/python3.10/dist-packages (from requests~=2.18->cirq-aqt==1.4.1->cirq) (3.3.2)\n",
            "Requirement already satisfied: idna<4,>=2.5 in /usr/local/lib/python3.10/dist-packages (from requests~=2.18->cirq-aqt==1.4.1->cirq) (3.8)\n",
            "Requirement already satisfied: urllib3<3,>=1.21.1 in /usr/local/lib/python3.10/dist-packages (from requests~=2.18->cirq-aqt==1.4.1->cirq) (2.0.7)\n",
            "Requirement already satisfied: certifi>=2017.4.17 in /usr/local/lib/python3.10/dist-packages (from requests~=2.18->cirq-aqt==1.4.1->cirq) (2024.8.30)\n",
            "Requirement already satisfied: pytz>=2020.1 in /usr/local/lib/python3.10/dist-packages (from pandas->cirq-core==1.4.1->cirq) (2024.1)\n",
            "Requirement already satisfied: tzdata>=2022.1 in /usr/local/lib/python3.10/dist-packages (from pandas->cirq-core==1.4.1->cirq) (2024.1)\n",
            "Requirement already satisfied: mpmath<1.4,>=1.1.0 in /usr/local/lib/python3.10/dist-packages (from sympy->cirq-core==1.4.1->cirq) (1.3.0)\n",
            "Requirement already satisfied: wrapt<2,>=1.10 in /usr/local/lib/python3.10/dist-packages (from deprecated<2.0.0,>=1.2.14->pyquil<5.0.0,>=4.11.0->cirq-rigetti==1.4.1->cirq) (1.16.0)\n",
            "Requirement already satisfied: cachetools<6.0,>=2.0.0 in /usr/local/lib/python3.10/dist-packages (from google-auth<3.0.dev0,>=2.14.1->google-api-core>=1.14.0->google-api-core[grpc]>=1.14.0->cirq-google==1.4.1->cirq) (5.5.0)\n",
            "Requirement already satisfied: pyasn1-modules>=0.2.1 in /usr/local/lib/python3.10/dist-packages (from google-auth<3.0.dev0,>=2.14.1->google-api-core>=1.14.0->google-api-core[grpc]>=1.14.0->cirq-google==1.4.1->cirq) (0.4.0)\n",
            "Requirement already satisfied: rsa<5,>=3.1.4 in /usr/local/lib/python3.10/dist-packages (from google-auth<3.0.dev0,>=2.14.1->google-api-core>=1.14.0->google-api-core[grpc]>=1.14.0->cirq-google==1.4.1->cirq) (4.9)\n",
            "Requirement already satisfied: traitlets in /usr/local/lib/python3.10/dist-packages (from matplotlib-inline<0.2.0,>=0.1.7->pyquil<5.0.0,>=4.11.0->cirq-rigetti==1.4.1->cirq) (5.7.1)\n",
            "Requirement already satisfied: six>=1.5 in /usr/local/lib/python3.10/dist-packages (from python-dateutil>=2.7->matplotlib~=3.0->cirq-core==1.4.1->cirq) (1.16.0)\n",
            "Requirement already satisfied: msgpack<2.0,>=0.6 in /usr/local/lib/python3.10/dist-packages (from rpcq<4.0.0,>=3.11.0->pyquil<5.0.0,>=4.11.0->cirq-rigetti==1.4.1->cirq) (1.0.8)\n",
            "Collecting python-rapidjson (from rpcq<4.0.0,>=3.11.0->pyquil<5.0.0,>=4.11.0->cirq-rigetti==1.4.1->cirq)\n",
            "  Downloading python_rapidjson-1.20-cp310-cp310-manylinux_2_17_x86_64.manylinux2014_x86_64.whl.metadata (22 kB)\n",
            "Requirement already satisfied: pyzmq>=17 in /usr/local/lib/python3.10/dist-packages (from rpcq<4.0.0,>=3.11.0->pyquil<5.0.0,>=4.11.0->cirq-rigetti==1.4.1->cirq) (24.0.1)\n",
            "Collecting ruamel.yaml (from rpcq<4.0.0,>=3.11.0->pyquil<5.0.0,>=4.11.0->cirq-rigetti==1.4.1->cirq)\n",
            "  Downloading ruamel.yaml-0.18.6-py3-none-any.whl.metadata (23 kB)\n",
            "Requirement already satisfied: pyasn1<0.7.0,>=0.4.6 in /usr/local/lib/python3.10/dist-packages (from pyasn1-modules>=0.2.1->google-auth<3.0.dev0,>=2.14.1->google-api-core>=1.14.0->google-api-core[grpc]>=1.14.0->cirq-google==1.4.1->cirq) (0.6.0)\n",
            "Collecting ruamel.yaml.clib>=0.2.7 (from ruamel.yaml->rpcq<4.0.0,>=3.11.0->pyquil<5.0.0,>=4.11.0->cirq-rigetti==1.4.1->cirq)\n",
            "  Downloading ruamel.yaml.clib-0.2.8-cp310-cp310-manylinux_2_17_x86_64.manylinux2014_x86_64.manylinux_2_24_x86_64.whl.metadata (2.2 kB)\n",
            "Downloading cirq-1.4.1-py3-none-any.whl (8.0 kB)\n",
            "Downloading cirq_aqt-1.4.1-py3-none-any.whl (30 kB)\n",
            "Downloading cirq_core-1.4.1-py3-none-any.whl (1.9 MB)\n",
            "\u001b[2K   \u001b[90m━━━━━━━━━━━━━━━━━━━━━━━━━━━━━━━━━━━━━━━━\u001b[0m \u001b[32m1.9/1.9 MB\u001b[0m \u001b[31m21.1 MB/s\u001b[0m eta \u001b[36m0:00:00\u001b[0m\n",
            "\u001b[?25hDownloading cirq_google-1.4.1-py3-none-any.whl (532 kB)\n",
            "\u001b[2K   \u001b[90m━━━━━━━━━━━━━━━━━━━━━━━━━━━━━━━━━━━━━━━━\u001b[0m \u001b[32m532.7/532.7 kB\u001b[0m \u001b[31m24.8 MB/s\u001b[0m eta \u001b[36m0:00:00\u001b[0m\n",
            "\u001b[?25hDownloading cirq_ionq-1.4.1-py3-none-any.whl (60 kB)\n",
            "\u001b[2K   \u001b[90m━━━━━━━━━━━━━━━━━━━━━━━━━━━━━━━━━━━━━━━━\u001b[0m \u001b[32m60.5/60.5 kB\u001b[0m \u001b[31m3.8 MB/s\u001b[0m eta \u001b[36m0:00:00\u001b[0m\n",
            "\u001b[?25hDownloading cirq_pasqal-1.4.1-py3-none-any.whl (31 kB)\n",
            "Downloading cirq_rigetti-1.4.1-py3-none-any.whl (69 kB)\n",
            "\u001b[2K   \u001b[90m━━━━━━━━━━━━━━━━━━━━━━━━━━━━━━━━━━━━━━━━\u001b[0m \u001b[32m69.3/69.3 kB\u001b[0m \u001b[31m4.2 MB/s\u001b[0m eta \u001b[36m0:00:00\u001b[0m\n",
            "\u001b[?25hDownloading cirq_web-1.4.1-py3-none-any.whl (596 kB)\n",
            "\u001b[2K   \u001b[90m━━━━━━━━━━━━━━━━━━━━━━━━━━━━━━━━━━━━━━━━\u001b[0m \u001b[32m596.5/596.5 kB\u001b[0m \u001b[31m27.0 MB/s\u001b[0m eta \u001b[36m0:00:00\u001b[0m\n",
            "\u001b[?25hDownloading bayesian_optimization-1.5.1-py3-none-any.whl (28 kB)\n",
            "Downloading colorama-0.4.6-py2.py3-none-any.whl (25 kB)\n",
            "Downloading duet-0.2.9-py3-none-any.whl (29 kB)\n",
            "Downloading pyquil-4.14.2-py3-none-any.whl (202 kB)\n",
            "\u001b[2K   \u001b[90m━━━━━━━━━━━━━━━━━━━━━━━━━━━━━━━━━━━━━━━━\u001b[0m \u001b[32m202.8/202.8 kB\u001b[0m \u001b[31m11.0 MB/s\u001b[0m eta \u001b[36m0:00:00\u001b[0m\n",
            "\u001b[?25hDownloading Deprecated-1.2.14-py2.py3-none-any.whl (9.6 kB)\n",
            "Downloading packaging-23.2-py3-none-any.whl (53 kB)\n",
            "\u001b[2K   \u001b[90m━━━━━━━━━━━━━━━━━━━━━━━━━━━━━━━━━━━━━━━━\u001b[0m \u001b[32m53.0/53.0 kB\u001b[0m \u001b[31m3.9 MB/s\u001b[0m eta \u001b[36m0:00:00\u001b[0m\n",
            "\u001b[?25hDownloading qcs_sdk_python-0.19.3-cp310-cp310-manylinux_2_28_x86_64.whl (6.8 MB)\n",
            "\u001b[2K   \u001b[90m━━━━━━━━━━━━━━━━━━━━━━━━━━━━━━━━━━━━━━━━\u001b[0m \u001b[32m6.8/6.8 MB\u001b[0m \u001b[31m55.2 MB/s\u001b[0m eta \u001b[36m0:00:00\u001b[0m\n",
            "\u001b[?25hDownloading quil-0.11.4-cp310-cp310-manylinux_2_17_x86_64.manylinux2014_x86_64.whl (2.0 MB)\n",
            "\u001b[2K   \u001b[90m━━━━━━━━━━━━━━━━━━━━━━━━━━━━━━━━━━━━━━━━\u001b[0m \u001b[32m2.0/2.0 MB\u001b[0m \u001b[31m49.7 MB/s\u001b[0m eta \u001b[36m0:00:00\u001b[0m\n",
            "\u001b[?25hDownloading types_Deprecated-1.2.9.20240311-py3-none-any.whl (3.5 kB)\n",
            "Downloading python_rapidjson-1.20-cp310-cp310-manylinux_2_17_x86_64.manylinux2014_x86_64.whl (1.7 MB)\n",
            "\u001b[2K   \u001b[90m━━━━━━━━━━━━━━━━━━━━━━━━━━━━━━━━━━━━━━━━\u001b[0m \u001b[32m1.7/1.7 MB\u001b[0m \u001b[31m29.9 MB/s\u001b[0m eta \u001b[36m0:00:00\u001b[0m\n",
            "\u001b[?25hDownloading ruamel.yaml-0.18.6-py3-none-any.whl (117 kB)\n",
            "\u001b[2K   \u001b[90m━━━━━━━━━━━━━━━━━━━━━━━━━━━━━━━━━━━━━━━━\u001b[0m \u001b[32m117.8/117.8 kB\u001b[0m \u001b[31m5.2 MB/s\u001b[0m eta \u001b[36m0:00:00\u001b[0m\n",
            "\u001b[?25hDownloading ruamel.yaml.clib-0.2.8-cp310-cp310-manylinux_2_17_x86_64.manylinux2014_x86_64.manylinux_2_24_x86_64.whl (526 kB)\n",
            "\u001b[2K   \u001b[90m━━━━━━━━━━━━━━━━━━━━━━━━━━━━━━━━━━━━━━━━\u001b[0m \u001b[32m526.7/526.7 kB\u001b[0m \u001b[31m17.2 MB/s\u001b[0m eta \u001b[36m0:00:00\u001b[0m\n",
            "\u001b[?25hBuilding wheels for collected packages: rpcq\n",
            "  Building wheel for rpcq (setup.py) ... \u001b[?25l\u001b[?25hdone\n",
            "  Created wheel for rpcq: filename=rpcq-3.11.0-py3-none-any.whl size=45967 sha256=483590245cc78dc375ff39bb5f16d245aad331a277eed2838a0cf1fec790d915\n",
            "  Stored in directory: /root/.cache/pip/wheels/91/97/0a/b384d94155345284ec00712ab814cbfb5bc2b631080b4fa4c3\n",
            "Successfully built rpcq\n",
            "Installing collected packages: types-deprecated, ruamel.yaml.clib, quil, python-rapidjson, packaging, duet, deprecated, colorama, ruamel.yaml, qcs-sdk-python, rpcq, cirq-core, bayesian-optimization, pyquil, cirq-web, cirq-pasqal, cirq-ionq, cirq-aqt, cirq-rigetti, cirq-google, cirq\n",
            "  Attempting uninstall: packaging\n",
            "    Found existing installation: packaging 24.1\n",
            "    Uninstalling packaging-24.1:\n",
            "      Successfully uninstalled packaging-24.1\n",
            "Successfully installed bayesian-optimization-1.5.1 cirq-1.4.1 cirq-aqt-1.4.1 cirq-core-1.4.1 cirq-google-1.4.1 cirq-ionq-1.4.1 cirq-pasqal-1.4.1 cirq-rigetti-1.4.1 cirq-web-1.4.1 colorama-0.4.6 deprecated-1.2.14 duet-0.2.9 packaging-23.2 pyquil-4.14.2 python-rapidjson-1.20 qcs-sdk-python-0.19.3 quil-0.11.4 rpcq-3.11.0 ruamel.yaml-0.18.6 ruamel.yaml.clib-0.2.8 types-deprecated-1.2.9.20240311\n"
          ]
        }
      ],
      "source": [
        "!pip install cirq bayesian-optimization"
      ]
    },
    {
      "cell_type": "code",
      "source": [
        "import cirq\n",
        "import matplotlib.pyplot as plt\n",
        "from collections import Counter\n",
        "import numpy as np\n",
        "from scipy.optimize import minimize\n",
        "from bayes_opt import BayesianOptimization"
      ],
      "metadata": {
        "id": "h73aY68w6fr-"
      },
      "execution_count": 2,
      "outputs": []
    },
    {
      "cell_type": "code",
      "source": [
        "def select_gate_for_application(application):\n",
        "    # Define the mapping from application to gates\n",
        "    application_to_gate = {\n",
        "        'coin flip': 'H',\n",
        "        'bit flip': 'X',\n",
        "        'phase flip': 'Z',\n",
        "        'bitwise not': 'Y'\n",
        "    }\n",
        "\n",
        "    # Convert application to lowercase and select the appropriate gate\n",
        "    gate_type = application_to_gate.get(application.lower(), 'H')  # Default to Hadamard gate if not found\n",
        "    return gate_type"
      ],
      "metadata": {
        "id": "jZ1SWsXl7B0d"
      },
      "execution_count": 3,
      "outputs": []
    },
    {
      "cell_type": "code",
      "source": [
        "def create_circuit(gate_type):\n",
        "    qubit = cirq.GridQubit(0, 0)\n",
        "    circuit = cirq.Circuit()\n",
        "\n",
        "    if gate_type == 'H':\n",
        "        circuit.append(cirq.H(qubit))\n",
        "    elif gate_type == 'X':\n",
        "        circuit.append(cirq.X(qubit))\n",
        "    elif gate_type == 'Y':\n",
        "        circuit.append(cirq.Y(qubit))\n",
        "    elif gate_type == 'Z':\n",
        "        circuit.append(cirq.Z(qubit))\n",
        "    else:\n",
        "        print(\"Invalid gate type. Defaulting to Hadamard gate.\")\n",
        "        circuit.append(cirq.H(qubit))\n",
        "\n",
        "    circuit.append(cirq.measure(qubit, key='result'))\n",
        "    return circuit"
      ],
      "metadata": {
        "id": "RWhzihoz7Esc"
      },
      "execution_count": 4,
      "outputs": []
    },
    {
      "cell_type": "code",
      "source": [
        "def minimize_circuit_depth_greedy(circuit):\n",
        "    # Simplified greedy approach: For each gate, place it in the earliest possible layer\n",
        "    qubits = list(circuit.all_qubits())\n",
        "    layers = []\n",
        "\n",
        "    # Initialize an empty dictionary to store qubit states and their corresponding gates\n",
        "    qubit_layers = {q: [] for q in qubits}\n",
        "\n",
        "    for moment in circuit:\n",
        "        # Create a new moment for optimized circuit\n",
        "        new_moment = cirq.Moment()\n",
        "\n",
        "        for op in moment.operations:\n",
        "            qubit = op.qubits[0]\n",
        "            if len(qubit_layers[qubit]) == 0:\n",
        "                # If no previous gate on this qubit, add to the new moment\n",
        "                new_moment = new_moment.with_operation(op)\n",
        "                qubit_layers[qubit].append(op)\n",
        "            else:\n",
        "                # If there is a previous gate, check if it conflicts with current gate\n",
        "                if all(op not in layer for layer in qubit_layers[qubit]):\n",
        "                    new_moment = new_moment.with_operation(op)\n",
        "                    qubit_layers[qubit].append(op)\n",
        "\n",
        "        if new_moment.operations:\n",
        "            layers.append(new_moment)\n",
        "\n",
        "    optimized_circuit = cirq.Circuit(layers)\n",
        "    return optimized_circuit\n"
      ],
      "metadata": {
        "id": "TGhh6Swd7GpM"
      },
      "execution_count": 5,
      "outputs": []
    },
    {
      "cell_type": "code",
      "source": [
        "\n",
        "def gate_count_reduction(circuit):\n",
        "    # Template Matching\n",
        "    templates = {\n",
        "        'H': cirq.Circuit([cirq.H(cirq.GridQubit(0, 0))]),\n",
        "        'X': cirq.Circuit([cirq.X(cirq.GridQubit(0, 0))]),\n",
        "        'Z': cirq.Circuit([cirq.Z(cirq.GridQubit(0, 0))]),\n",
        "        'Y': cirq.Circuit([cirq.Y(cirq.GridQubit(0, 0))])\n",
        "    }\n",
        "\n",
        "    # Simplified peephole optimization\n",
        "    optimized_circuit = cirq.Circuit()\n",
        "    operations = set()\n",
        "\n",
        "    for moment in circuit:\n",
        "        new_moment = cirq.Moment()\n",
        "        for op in moment.operations:\n",
        "            if op not in operations:\n",
        "                new_moment = new_moment.with_operation(op)\n",
        "                operations.add(op)\n",
        "        if new_moment.operations:\n",
        "            optimized_circuit = optimized_circuit + new_moment\n",
        "\n",
        "    return optimized_circuit"
      ],
      "metadata": {
        "id": "UbUsnfiE7JSs"
      },
      "execution_count": 6,
      "outputs": []
    },
    {
      "cell_type": "code",
      "source": [
        "def gradient_descent_optimizer(circuit):\n",
        "    def cost_function(params):\n",
        "        # Define a cost function for the circuit\n",
        "        # For demonstration, use a dummy cost function that returns a constant value\n",
        "        return np.sum(params**2)  # Example cost function\n",
        "\n",
        "    initial_params = np.zeros(1)  # Example initial parameters\n",
        "    result = minimize(cost_function, initial_params, method='BFGS')\n",
        "    optimized_params = result.x\n",
        "    return optimized_params"
      ],
      "metadata": {
        "id": "o36NYWQF7MhU"
      },
      "execution_count": 7,
      "outputs": []
    },
    {
      "cell_type": "code",
      "source": [
        "def bayesian_optimization_optimizer(circuit):\n",
        "    def cost_function(param):\n",
        "        # Define a cost function for Bayesian optimization\n",
        "        # For demonstration, use a dummy cost function\n",
        "        return -param**2 + 1  # Example cost function\n",
        "\n",
        "    optimizer = BayesianOptimization(\n",
        "        f=cost_function,\n",
        "        pbounds={'param': (-1, 1)},\n",
        "        random_state=1,\n",
        "    )\n",
        "    optimizer.maximize(init_points=5, n_iter=10)\n",
        "    best_params = optimizer.max['params']\n",
        "    return best_params"
      ],
      "metadata": {
        "id": "sT6nuGhj7PR0"
      },
      "execution_count": 8,
      "outputs": []
    },
    {
      "cell_type": "code",
      "source": [
        "def visualize_results(results):\n",
        "    measurements = results.measurements['result'].flatten()\n",
        "    counts = Counter(measurements)\n",
        "    total_counts = sum(counts.values())\n",
        "\n",
        "    print(\"Measurement Results:\", dict(counts))\n",
        "\n",
        "    # Plot the results\n",
        "    fig, ax = plt.subplots()\n",
        "    bars = ax.bar(counts.keys(), counts.values(), color=['blue', 'orange'])\n",
        "\n",
        "    # Add percentage labels on top of each bar\n",
        "    for bar in bars:\n",
        "        height = bar.get_height()\n",
        "        percentage = (height / total_counts) * 100\n",
        "        ax.text(bar.get_x() + bar.get_width() / 2, height,\n",
        "                f'{percentage:.2f}%',\n",
        "                ha='center', va='bottom')\n",
        "\n",
        "    # Determine the probable result\n",
        "    probable_result = max(counts.items(), key=lambda x: x[1])[0]\n",
        "    print(f\"Most probable result: {probable_result}\")\n",
        "\n",
        "    # Additional formatting\n",
        "    ax.set_xlabel('Measurement Result')\n",
        "    ax.set_ylabel('Count')\n",
        "    ax.set_title('Measurement Results Histogram')\n",
        "    ax.set_xticks([0, 1])\n",
        "    ax.set_xticklabels(['0', '1'])\n",
        "\n",
        "    plt.show()"
      ],
      "metadata": {
        "id": "XYn3nztI7RQs"
      },
      "execution_count": 9,
      "outputs": []
    },
    {
      "cell_type": "code",
      "source": [
        "def main():\n",
        "    print(\"Ripples\")\n",
        "\n",
        "    # Get user input for the application\n",
        "    application = input(\"Enter the application (e.g., 'coin flip', 'bit flip'): \")\n",
        "\n",
        "    # Determine the appropriate gate for the given application\n",
        "    gate_type = select_gate_for_application(application)\n",
        "    print(f\"Selected Gate for '{application}': {gate_type}\")\n",
        "\n",
        "    # Get user input for the number of repetitions\n",
        "    try:\n",
        "        repetitions = int(input(\"Enter the number of repetitions for the simulation: \"))\n",
        "    except ValueError:\n",
        "        print(\"Invalid number. Defaulting to 1024 repetitions.\")\n",
        "        repetitions = 1024\n",
        "\n",
        "    # Create and print the circuit\n",
        "    circuit = create_circuit(gate_type)\n",
        "    print(\"Quantum Circuit:\")\n",
        "    print(circuit)\n",
        "\n",
        "    # Ask user for optimization method\n",
        "    optimization_method = input(\"Select optimization method (depth reduction/gate count reduction/parameter optimization/none): \").strip().lower()\n",
        "\n",
        "    if optimization_method == 'depth reduction':\n",
        "        circuit = minimize_circuit_depth_greedy(circuit)\n",
        "        print(\"Optimized Quantum Circuit (Depth Reduction):\")\n",
        "        print(circuit)\n",
        "    elif optimization_method == 'gate count reduction':\n",
        "        circuit = gate_count_reduction(circuit)\n",
        "        print(\"Optimized Quantum Circuit (Gate Count Reduction):\")\n",
        "        print(circuit)\n",
        "    elif optimization_method == 'parameter optimization':\n",
        "        param_method = input(\"Select parameter optimization method (gradient descent/bayesian optimization): \").strip().lower()\n",
        "        if param_method == 'gradient descent':\n",
        "            optimized_params = gradient_descent_optimizer(circuit)\n",
        "            print(f\"Optimized Parameters (Gradient Descent): {optimized_params}\")\n",
        "        elif param_method == 'bayesian optimization':\n",
        "            best_params = bayesian_optimization_optimizer(circuit)\n",
        "            print(f\"Best Parameters (Bayesian Optimization): {best_params}\")\n",
        "        else:\n",
        "            print(\"Invalid parameter optimization method.\")\n",
        "    else:\n",
        "        print(\"No optimization applied.\")\n",
        "\n",
        "    # Simulate the circuit\n",
        "    simulator = cirq.Simulator()\n",
        "    result = simulator.run(circuit, repetitions=repetitions)\n",
        "\n",
        "    # Visualize the results\n",
        "    visualize_results(result)"
      ],
      "metadata": {
        "id": "4VNAP8NG7aFM"
      },
      "execution_count": 12,
      "outputs": []
    },
    {
      "cell_type": "code",
      "source": [
        "\n",
        "if __name__ == \"__main__\":\n",
        "    main()"
      ],
      "metadata": {
        "colab": {
          "base_uri": "https://localhost:8080/",
          "height": 673
        },
        "id": "6WjyfC3U7g7U",
        "outputId": "e11176a3-5e5a-41a2-bf6d-b50bfd298008"
      },
      "execution_count": 13,
      "outputs": [
        {
          "output_type": "stream",
          "name": "stdout",
          "text": [
            "Ripples\n",
            "Enter the application (e.g., 'coin flip', 'bit flip'): coin flip\n",
            "Selected Gate for 'coin flip': H\n",
            "Enter the number of repetitions for the simulation: 3\n",
            "Quantum Circuit:\n",
            "(0, 0): ───H───M('result')───\n",
            "Select optimization method (depth reduction/gate count reduction/parameter optimization/none): parameter optimization\n",
            "Select parameter optimization method (gradient descent/bayesian optimization): gradient descent\n",
            "Optimized Parameters (Gradient Descent): [0.]\n",
            "Measurement Results: {0: 2, 1: 1}\n",
            "Most probable result: 0\n"
          ]
        },
        {
          "output_type": "display_data",
          "data": {
            "text/plain": [
              "<Figure size 640x480 with 1 Axes>"
            ],
            "image/png": "[encoded data removed]"
          },
          "metadata": {}
        }
      ]
    },
    {
      "cell_type": "code",
      "source": [],
      "metadata": {
        "id": "UGiydbm-7jPL"
      },
      "execution_count": null,
      "outputs": []
    }
  ]
}